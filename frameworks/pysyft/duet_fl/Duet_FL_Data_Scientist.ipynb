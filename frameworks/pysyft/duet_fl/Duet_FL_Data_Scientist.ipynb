{
 "cells": [
  {
   "cell_type": "markdown",
   "id": "3721a9fa",
   "metadata": {},
   "source": [
    "## Introduction\n",
    "\n",
    "The goal of this notebook is to test a basic Fed.Learning with Pysyft and Duet. Duet is the mvp of pysyft that allows us to execute P2P remote training using WebRTC protocol. \n",
    "\n",
    "We will use a signaling server hosted in AWS:  http://52.19.68.70:5000\n",
    "\n",
    "**Pre-requirements**:\n",
    "   - We need to launch a data owner and open a Duet session.\n",
    "   - We need the data owner to publish its data and make it accesible.\n",
    "\n",
    "**Steps**:\n",
    "\n",
    "- *Step 0*. Data scientist connection to Duet Network Session. (2 sessions - one per each DO)\n",
    "- *Step 1*. Check available data.\n",
    "- *Step 2*. Describe the data. (federated analytics).\n",
    "- *Step 3*. Pysyft model definition.\n",
    "- *Step 4*. Pysyft model training.\n",
    "- *Step 5*. Retrieve the model.\n",
    "- *Step 6*. Performance evaluation.\n",
    "\n"
   ]
  },
  {
   "cell_type": "markdown",
   "id": "e18afd84",
   "metadata": {},
   "source": [
    "## Step 0. Data Scientist connection to Duet Network Session"
   ]
  },
  {
   "cell_type": "code",
   "execution_count": 1,
   "id": "6debc846",
   "metadata": {},
   "outputs": [],
   "source": [
    "import torch\n",
    "\n",
    "# we create some dicts to store losses\n",
    "loss_stats = {\n",
    "    'loss train': [],\n",
    "    'loss val': []\n",
    "}"
   ]
  },
  {
   "cell_type": "markdown",
   "id": "earlier-investing",
   "metadata": {},
   "source": [
    "#### DS - Part 2: Join the Duet Server the Data Owner 1 connected to"
   ]
  },
  {
   "cell_type": "code",
   "execution_count": 2,
   "id": "sized-session",
   "metadata": {
    "scrolled": true
   },
   "outputs": [
    {
     "name": "stdout",
     "output_type": "stream",
     "text": [
      "🎤  🎸  ♪♪♪ Joining Duet ♫♫♫  🎻  🎹\n",
      "\n",
      "♫♫♫ >\u001b[93m DISCLAIMER\u001b[0m: \u001b[1mDuet is an experimental feature currently in beta.\n",
      "♫♫♫ > Use at your own risk.\n",
      "\u001b[0m\n",
      "\u001b[1m\n",
      "    > ❤️ \u001b[91mLove\u001b[0m \u001b[92mDuet\u001b[0m? \u001b[93mPlease\u001b[0m \u001b[94mconsider\u001b[0m \u001b[95msupporting\u001b[0m \u001b[91mour\u001b[0m \u001b[93mcommunity!\u001b[0m\n",
      "    > https://github.com/sponsors/OpenMined\u001b[1m\n",
      "\n",
      "♫♫♫ > Punching through firewall to OpenGrid Network Node at:\n",
      "♫♫♫ > http://18.203.84.144:5000\n",
      "♫♫♫ >\n",
      "♫♫♫ > ...waiting for response from OpenGrid Network... \n",
      "♫♫♫ > \u001b[92mDONE!\u001b[0m\n",
      "\n",
      "♫♫♫ > \u001b[95mSTEP 1:\u001b[0m Send the following Duet Client ID to your duet partner!\n",
      "♫♫♫ > Duet Client ID: \u001b[1m98727344504f5f876309fb80e8e6c927\u001b[0m\n",
      "\n",
      "♫♫♫ > ...waiting for partner to connect...\n",
      "\n",
      "♫♫♫ > \u001b[92mCONNECTED!\u001b[0m\n"
     ]
    }
   ],
   "source": [
    "import syft as sy\n",
    "duet_1 = sy.duet(\"cf1430ac7d5b35db8bd5fd8a50d693c3\", network_url=\"http://18.203.84.144:5000\")"
   ]
  },
  {
   "cell_type": "markdown",
   "id": "b74b6b9d",
   "metadata": {},
   "source": [
    "#### DS - Part 2: Join the Duet Server the Data Owner 2 connected to"
   ]
  },
  {
   "cell_type": "code",
   "execution_count": 3,
   "id": "7b487df4",
   "metadata": {},
   "outputs": [
    {
     "name": "stdout",
     "output_type": "stream",
     "text": [
      "🎤  🎸  ♪♪♪ Joining Duet ♫♫♫  🎻  🎹\n",
      "\n",
      "♫♫♫ >\u001b[93m DISCLAIMER\u001b[0m: \u001b[1mDuet is an experimental feature currently in beta.\n",
      "♫♫♫ > Use at your own risk.\n",
      "\u001b[0m\n",
      "\u001b[1m\n",
      "    > ❤️ \u001b[91mLove\u001b[0m \u001b[92mDuet\u001b[0m? \u001b[93mPlease\u001b[0m \u001b[94mconsider\u001b[0m \u001b[95msupporting\u001b[0m \u001b[91mour\u001b[0m \u001b[93mcommunity!\u001b[0m\n",
      "    > https://github.com/sponsors/OpenMined\u001b[1m\n",
      "\n",
      "♫♫♫ > Punching through firewall to OpenGrid Network Node at:\n",
      "♫♫♫ > http://18.203.84.144:5000\n",
      "♫♫♫ >\n",
      "♫♫♫ > ...waiting for response from OpenGrid Network... \n",
      "♫♫♫ > \u001b[92mDONE!\u001b[0m\n",
      "\n",
      "♫♫♫ > \u001b[95mSTEP 1:\u001b[0m Send the following Duet Client ID to your duet partner!\n",
      "♫♫♫ > Duet Client ID: \u001b[1m2d76797b082c21eff352870a8ac6cca6\u001b[0m\n",
      "\n",
      "♫♫♫ > ...waiting for partner to connect...\n",
      "\n",
      "♫♫♫ > \u001b[92mCONNECTED!\u001b[0m\n"
     ]
    }
   ],
   "source": [
    "duet_2 = sy.duet(\"2e36e02fac6535821560b2b6d80b5d12\", network_url=\"http://18.203.84.144:5000\")"
   ]
  },
  {
   "cell_type": "markdown",
   "id": "782590f0",
   "metadata": {},
   "source": [
    "## Step 1. Check available data"
   ]
  },
  {
   "cell_type": "code",
   "execution_count": 6,
   "id": "wanted-upper",
   "metadata": {},
   "outputs": [
    {
     "data": {
      "text/html": [
       "<div>\n",
       "<style scoped>\n",
       "    .dataframe tbody tr th:only-of-type {\n",
       "        vertical-align: middle;\n",
       "    }\n",
       "\n",
       "    .dataframe tbody tr th {\n",
       "        vertical-align: top;\n",
       "    }\n",
       "\n",
       "    .dataframe thead th {\n",
       "        text-align: right;\n",
       "    }\n",
       "</style>\n",
       "<table border=\"1\" class=\"dataframe\">\n",
       "  <thead>\n",
       "    <tr style=\"text-align: right;\">\n",
       "      <th></th>\n",
       "      <th>ID</th>\n",
       "      <th>Tags</th>\n",
       "      <th>Description</th>\n",
       "      <th>object_type</th>\n",
       "    </tr>\n",
       "  </thead>\n",
       "  <tbody>\n",
       "    <tr>\n",
       "      <th>0</th>\n",
       "      <td>&lt;UID: c112f7e6676a47a5bc83709f0d56ddc3&gt;</td>\n",
       "      <td>[x_data_train_1]</td>\n",
       "      <td>X Train 1 - synthetic regression dataset</td>\n",
       "      <td>&lt;class 'torch.Tensor'&gt;</td>\n",
       "    </tr>\n",
       "    <tr>\n",
       "      <th>1</th>\n",
       "      <td>&lt;UID: 844f3c37f3a14b0e80743480c59d163b&gt;</td>\n",
       "      <td>[y_data_train_1]</td>\n",
       "      <td>Y Train 1 - synthetic regression dataset</td>\n",
       "      <td>&lt;class 'torch.Tensor'&gt;</td>\n",
       "    </tr>\n",
       "    <tr>\n",
       "      <th>2</th>\n",
       "      <td>&lt;UID: de79123375ec4f4d90c05d4d293a0263&gt;</td>\n",
       "      <td>[x_data_test]</td>\n",
       "      <td>X Test - synthetic regression dataset</td>\n",
       "      <td>&lt;class 'torch.Tensor'&gt;</td>\n",
       "    </tr>\n",
       "    <tr>\n",
       "      <th>3</th>\n",
       "      <td>&lt;UID: 7dbff316ccb44e34965ce36a5a5728e3&gt;</td>\n",
       "      <td>[y_data_test]</td>\n",
       "      <td>Y Test - synthetic regression dataset</td>\n",
       "      <td>&lt;class 'torch.Tensor'&gt;</td>\n",
       "    </tr>\n",
       "  </tbody>\n",
       "</table>\n",
       "</div>"
      ],
      "text/plain": [
       "                                        ID              Tags  \\\n",
       "0  <UID: c112f7e6676a47a5bc83709f0d56ddc3>  [x_data_train_1]   \n",
       "1  <UID: 844f3c37f3a14b0e80743480c59d163b>  [y_data_train_1]   \n",
       "2  <UID: de79123375ec4f4d90c05d4d293a0263>     [x_data_test]   \n",
       "3  <UID: 7dbff316ccb44e34965ce36a5a5728e3>     [y_data_test]   \n",
       "\n",
       "                                Description             object_type  \n",
       "0  X Train 1 - synthetic regression dataset  <class 'torch.Tensor'>  \n",
       "1  Y Train 1 - synthetic regression dataset  <class 'torch.Tensor'>  \n",
       "2     X Test - synthetic regression dataset  <class 'torch.Tensor'>  \n",
       "3     Y Test - synthetic regression dataset  <class 'torch.Tensor'>  "
      ]
     },
     "execution_count": 6,
     "metadata": {},
     "output_type": "execute_result"
    }
   ],
   "source": [
    "duet_1.store.pandas"
   ]
  },
  {
   "cell_type": "code",
   "execution_count": 7,
   "id": "f7091e12",
   "metadata": {},
   "outputs": [
    {
     "data": {
      "text/html": [
       "<div>\n",
       "<style scoped>\n",
       "    .dataframe tbody tr th:only-of-type {\n",
       "        vertical-align: middle;\n",
       "    }\n",
       "\n",
       "    .dataframe tbody tr th {\n",
       "        vertical-align: top;\n",
       "    }\n",
       "\n",
       "    .dataframe thead th {\n",
       "        text-align: right;\n",
       "    }\n",
       "</style>\n",
       "<table border=\"1\" class=\"dataframe\">\n",
       "  <thead>\n",
       "    <tr style=\"text-align: right;\">\n",
       "      <th></th>\n",
       "      <th>ID</th>\n",
       "      <th>Tags</th>\n",
       "      <th>Description</th>\n",
       "      <th>object_type</th>\n",
       "    </tr>\n",
       "  </thead>\n",
       "  <tbody>\n",
       "    <tr>\n",
       "      <th>0</th>\n",
       "      <td>&lt;UID: 9667e5cfdba642a783b22726407fd4c8&gt;</td>\n",
       "      <td>[x_data_train_2]</td>\n",
       "      <td>X Train 2 - synthetic regression dataset</td>\n",
       "      <td>&lt;class 'torch.Tensor'&gt;</td>\n",
       "    </tr>\n",
       "    <tr>\n",
       "      <th>1</th>\n",
       "      <td>&lt;UID: 1a2bb073df704ec5a28c952f6943c769&gt;</td>\n",
       "      <td>[y_data_train_2]</td>\n",
       "      <td>Y Train 2 - synthetic regression dataset</td>\n",
       "      <td>&lt;class 'torch.Tensor'&gt;</td>\n",
       "    </tr>\n",
       "  </tbody>\n",
       "</table>\n",
       "</div>"
      ],
      "text/plain": [
       "                                        ID              Tags  \\\n",
       "0  <UID: 9667e5cfdba642a783b22726407fd4c8>  [x_data_train_2]   \n",
       "1  <UID: 1a2bb073df704ec5a28c952f6943c769>  [y_data_train_2]   \n",
       "\n",
       "                                Description             object_type  \n",
       "0  X Train 2 - synthetic regression dataset  <class 'torch.Tensor'>  \n",
       "1  Y Train 2 - synthetic regression dataset  <class 'torch.Tensor'>  "
      ]
     },
     "execution_count": 7,
     "metadata": {},
     "output_type": "execute_result"
    }
   ],
   "source": [
    "duet_2.store.pandas"
   ]
  },
  {
   "cell_type": "markdown",
   "id": "65f58b9f",
   "metadata": {},
   "source": [
    "Get the pointers to the data"
   ]
  },
  {
   "cell_type": "code",
   "execution_count": 8,
   "id": "52d841cb",
   "metadata": {},
   "outputs": [
    {
     "name": "stdout",
     "output_type": "stream",
     "text": [
      "<syft.proxy.torch.TensorPointer object at 0x7fb2958c3ee0>\n",
      "<syft.proxy.torch.TensorPointer object at 0x7fb2958e7e50>\n",
      "<syft.proxy.torch.TensorPointer object at 0x7fb2958c3e80>\n",
      "<syft.proxy.torch.TensorPointer object at 0x7fb29574eeb0>\n"
     ]
    }
   ],
   "source": [
    "X_train_1_ptr = duet_1.store['x_data_train_1']\n",
    "Y_train_1_ptr = duet_1.store['y_data_train_1']\n",
    "\n",
    "X_train_2_ptr = duet_2.store['x_data_train_2']\n",
    "Y_train_2_ptr = duet_2.store['y_data_train_2']\n",
    "\n",
    "X_test_ptr = duet_1.store['x_data_test']\n",
    "Y_test_ptr = duet_1.store['y_data_test']\n",
    "\n",
    "\n",
    "print(X_train_1_ptr)\n",
    "print(Y_train_1_ptr)\n",
    "\n",
    "print(X_test_ptr)\n",
    "print(Y_test_ptr)"
   ]
  },
  {
   "cell_type": "markdown",
   "id": "92d9accf",
   "metadata": {},
   "source": [
    "## Step 2. Describe the data"
   ]
  },
  {
   "cell_type": "markdown",
   "id": "6aa49f91",
   "metadata": {},
   "source": [
    "We will try to perform some basic analysis to describe the data in the Data Owner's duet server, without having to share his/her data."
   ]
  },
  {
   "cell_type": "markdown",
   "id": "4a5a7672",
   "metadata": {},
   "source": [
    "#### Get average and std X "
   ]
  },
  {
   "cell_type": "code",
   "execution_count": 9,
   "id": "938c6b96",
   "metadata": {},
   "outputs": [],
   "source": [
    "average_train = X_train_1_ptr.float().mean()\n",
    "std_train = X_train_1_ptr.float().std()"
   ]
  },
  {
   "cell_type": "markdown",
   "id": "a5842703",
   "metadata": {},
   "source": [
    "#### Get average and std Y"
   ]
  },
  {
   "cell_type": "code",
   "execution_count": 10,
   "id": "46fcc82d",
   "metadata": {},
   "outputs": [],
   "source": [
    "average_test = X_test_ptr.float().mean()\n",
    "std_test = Y_test_ptr.float().std()"
   ]
  },
  {
   "cell_type": "markdown",
   "id": "5b4c5825",
   "metadata": {},
   "source": [
    "Now we want to see the results."
   ]
  },
  {
   "cell_type": "code",
   "execution_count": 15,
   "id": "117c8a7e",
   "metadata": {},
   "outputs": [],
   "source": [
    "try:\n",
    "    result = average_test.get()\n",
    "except Exception as e:\n",
    "    print(e)"
   ]
  },
  {
   "cell_type": "code",
   "execution_count": 14,
   "id": "b4fe99f5",
   "metadata": {},
   "outputs": [],
   "source": [
    "# Looks like the Data Scientist does not have permission to download this result! He/she needs\n",
    "# to make a request to the Data Owner.\n",
    "average_test.request(reason=\"I did some basic analytics (mean and std). Please approve!\")"
   ]
  },
  {
   "cell_type": "code",
   "execution_count": 16,
   "id": "93aea92f",
   "metadata": {},
   "outputs": [
    {
     "data": {
      "text/plain": [
       "tensor(0.5643)"
      ]
     },
     "execution_count": 16,
     "metadata": {},
     "output_type": "execute_result"
    }
   ],
   "source": [
    "result"
   ]
  },
  {
   "cell_type": "markdown",
   "id": "efbff650",
   "metadata": {},
   "source": [
    "## Step.3. Pysyft Model definition\n",
    "\n",
    "We are trying to learn the unknown parameters (a,b) y = a*x + b. Thus, we define a model that applies this linear transformation to the training data x in order to predict ŷ. We will use MSE loss to adjust the parameters (a,b) using the y true value"
   ]
  },
  {
   "cell_type": "code",
   "execution_count": 17,
   "id": "16bcfb9b",
   "metadata": {},
   "outputs": [],
   "source": [
    "input_size = 1 # input features \n",
    "output_size = 1 # output features"
   ]
  },
  {
   "cell_type": "code",
   "execution_count": 18,
   "id": "4bbdc1d6",
   "metadata": {},
   "outputs": [],
   "source": [
    "class linearRegression(sy.Module):\n",
    "    def __init__(self, torch_ref):\n",
    "        super(linearRegression, self).__init__(torch_ref=torch_ref)\n",
    "        self.linear = torch.nn.Linear(input_size, output_size)\n",
    "\n",
    "    def forward(self, x):\n",
    "        out = self.linear(x)\n",
    "        return out"
   ]
  },
  {
   "cell_type": "code",
   "execution_count": 19,
   "id": "dd8bf9d4",
   "metadata": {},
   "outputs": [],
   "source": [
    "torch_model = linearRegression(torch)"
   ]
  },
  {
   "cell_type": "code",
   "execution_count": 20,
   "id": "fd431da4",
   "metadata": {},
   "outputs": [
    {
     "name": "stdout",
     "output_type": "stream",
     "text": [
      "<__main__.linearRegression object at 0x7fb2957dfca0>\n"
     ]
    }
   ],
   "source": [
    "print(torch_model)"
   ]
  },
  {
   "cell_type": "markdown",
   "id": "a7842b94",
   "metadata": {},
   "source": [
    "## Step 4. PySyft Model training "
   ]
  },
  {
   "cell_type": "markdown",
   "id": "a02d6ecd",
   "metadata": {},
   "source": [
    "This is the most common implementation of a PySyft model trainer in Duet."
   ]
  },
  {
   "cell_type": "code",
   "execution_count": 21,
   "id": "aeade179",
   "metadata": {},
   "outputs": [],
   "source": [
    "def train(iterations, model, torch_ref, optim, data_ptr, target_ptr):\n",
    "\n",
    "    losses = []\n",
    "\n",
    "    for i in range(iterations):\n",
    "\n",
    "        optim.zero_grad()\n",
    "        output = model(data_ptr)\n",
    "        loss = torch_ref.nn.functional.mse_loss(output, target_ptr)\n",
    "        loss_item = loss.item()\n",
    "\n",
    "        loss_value = loss_item.get(\n",
    "            reason=\"To evaluate training progress\",\n",
    "            request_block=True,\n",
    "            timeout_secs=5,\n",
    "        )\n",
    "\n",
    "        print(\"Epoch\", i, \"loss\", loss_value)\n",
    "        losses.append(loss_value)\n",
    "        loss.backward()\n",
    "        optim.step()\n",
    "\n",
    "    return losses"
   ]
  },
  {
   "cell_type": "markdown",
   "id": "8ac26c36",
   "metadata": {},
   "source": [
    "### Training"
   ]
  },
  {
   "cell_type": "markdown",
   "id": "f3838672",
   "metadata": {},
   "source": [
    "Train on Data Owner 1 data"
   ]
  },
  {
   "cell_type": "code",
   "execution_count": 22,
   "id": "139e8261",
   "metadata": {},
   "outputs": [],
   "source": [
    "remote_model1 = torch_model.send(duet_1)"
   ]
  },
  {
   "cell_type": "code",
   "execution_count": 23,
   "id": "155f256a",
   "metadata": {},
   "outputs": [],
   "source": [
    "remote_torch1 = duet_1.torch\n",
    "params = remote_model1.parameters()\n",
    "optim1 = remote_torch1.optim.Adam(params=params, lr=0.1)"
   ]
  },
  {
   "cell_type": "code",
   "execution_count": 24,
   "id": "0a16f7a9",
   "metadata": {},
   "outputs": [
    {
     "name": "stdout",
     "output_type": "stream",
     "text": [
      "Epoch 0 loss 445.2080383300781\n",
      "Epoch 1 loss 444.95526123046875\n",
      "Epoch 2 loss 444.7501525878906\n",
      "Epoch 3 loss 444.5926818847656\n",
      "Epoch 4 loss 444.4814147949219\n",
      "Epoch 5 loss 444.4129943847656\n",
      "Epoch 6 loss 444.3815002441406\n",
      "Epoch 7 loss 444.3782958984375\n",
      "Epoch 8 loss 444.3929138183594\n",
      "Epoch 9 loss 444.41461181640625\n"
     ]
    }
   ],
   "source": [
    "iteration = 10\n",
    "losses = train(iteration, remote_model1, remote_torch1, optim1, X_train_1_ptr, Y_train_1_ptr)"
   ]
  },
  {
   "cell_type": "markdown",
   "id": "ff789710",
   "metadata": {},
   "source": [
    "Train on Data Owner 2 data"
   ]
  },
  {
   "cell_type": "code",
   "execution_count": 25,
   "id": "fac3c0f0",
   "metadata": {},
   "outputs": [],
   "source": [
    "remote_model2 = torch_model.send(duet_2)"
   ]
  },
  {
   "cell_type": "code",
   "execution_count": 26,
   "id": "03e6b1c8",
   "metadata": {},
   "outputs": [],
   "source": [
    "remote_torch2 = duet_2.torch\n",
    "params = remote_model2.parameters()\n",
    "optim2 = remote_torch2.optim.Adam(params=params, lr=0.1)"
   ]
  },
  {
   "cell_type": "code",
   "execution_count": 27,
   "id": "5af91a62",
   "metadata": {},
   "outputs": [
    {
     "name": "stdout",
     "output_type": "stream",
     "text": [
      "Epoch 0 loss 445.2080383300781\n",
      "Epoch 1 loss 444.95526123046875\n",
      "Epoch 2 loss 444.7501525878906\n",
      "Epoch 3 loss 444.5926818847656\n",
      "Epoch 4 loss 444.4814147949219\n",
      "Epoch 5 loss 444.4129943847656\n"
     ]
    },
    {
     "name": "stderr",
     "output_type": "stream",
     "text": [
      "Exception in callback Transaction.__retry()\n",
      "handle: <TimerHandle when=27895.741074371 Transaction.__retry()>\n",
      "Traceback (most recent call last):\n",
      "  File \"/home/yolandadelahoz/anaconda3/envs/openmined-courses/lib/python3.9/asyncio/events.py\", line 80, in _run\n",
      "    self._context.run(self._callback, *self._args)\n",
      "  File \"/home/yolandadelahoz/anaconda3/envs/openmined-courses/lib/python3.9/site-packages/aioice/stun.py\", line 306, in __retry\n",
      "    self.__future.set_exception(TransactionTimeout())\n",
      "  File \"/home/yolandadelahoz/anaconda3/envs/openmined-courses/lib/python3.9/asyncio/futures.py\", line 270, in set_exception\n",
      "    raise exceptions.InvalidStateError(f'{self._state}: {self!r}')\n",
      "asyncio.exceptions.InvalidStateError: FINISHED: <Future finished result=(Message(messa...xbaH\\xbb\\xcb'), ('3.249.185.60', 40960))>\n"
     ]
    },
    {
     "name": "stdout",
     "output_type": "stream",
     "text": [
      "Epoch 6 loss 444.3815002441406\n",
      "Epoch 7 loss 444.3782958984375\n",
      "Epoch 8 loss 444.3929138183594\n",
      "Epoch 9 loss 444.41461181640625\n"
     ]
    }
   ],
   "source": [
    "iteration = 10\n",
    "losses = train(iteration, remote_model2, remote_torch2, optim2, X_train_2_ptr, Y_train_2_ptr)"
   ]
  },
  {
   "cell_type": "markdown",
   "id": "3300cddc",
   "metadata": {},
   "source": [
    "#### Sanity check! remote model parameters vs. base model parameters"
   ]
  },
  {
   "cell_type": "code",
   "execution_count": 28,
   "id": "39f81d0b",
   "metadata": {},
   "outputs": [
    {
     "name": "stdout",
     "output_type": "stream",
     "text": [
      "Base Model parameters:\n",
      "[Parameter containing:\n",
      "tensor([[-0.9809]], requires_grad=True), Parameter containing:\n",
      "tensor([0.3665], requires_grad=True)]\n",
      "\n",
      "Remote model parameters:\n",
      "[Parameter containing:\n",
      "tensor([[-0.2943]], requires_grad=True), Parameter containing:\n",
      "tensor([1.1962], requires_grad=True)]\n",
      "\n",
      "Remote model parameters:\n",
      "[Parameter containing:\n",
      "tensor([[-0.2943]], requires_grad=True), Parameter containing:\n",
      "tensor([1.1962], requires_grad=True)]\n",
      "\n"
     ]
    }
   ],
   "source": [
    "param1 = remote_model1.parameters().get(request_block=True)\n",
    "param2 = remote_model2.parameters().get(request_block=True)\n",
    "\n",
    "print(\"Base Model parameters:\")\n",
    "print(torch_model.parameters())\n",
    "print()\n",
    "\n",
    "print(\"Remote model parameters:\")\n",
    "print(param1)\n",
    "print()\n",
    "\n",
    "assert(torch_model.parameters()!= param1)\n",
    "\n",
    "print(\"Remote model parameters:\")\n",
    "print(param2)\n",
    "print()\n",
    "\n",
    "assert(torch_model.parameters()!= param2)"
   ]
  },
  {
   "cell_type": "markdown",
   "id": "6638fec2",
   "metadata": {},
   "source": [
    "The remote model paramter values are different from the base model paramter values. That means the remote copies of our base model got trained and updated."
   ]
  },
  {
   "cell_type": "markdown",
   "id": "57391dd2",
   "metadata": {},
   "source": [
    "## Step 5. Retrieve the model (parameters)"
   ]
  },
  {
   "cell_type": "code",
   "execution_count": 29,
   "id": "d0bf570b",
   "metadata": {},
   "outputs": [
    {
     "name": "stdout",
     "output_type": "stream",
     "text": [
      "OrderedDict([('linear.weight', tensor([[-0.2943]])), ('linear.bias', tensor([1.1962]))])\n"
     ]
    }
   ],
   "source": [
    "remote_model1_updates = remote_model1.get(\n",
    "    request_block=True\n",
    ").state_dict()\n",
    "\n",
    "print(remote_model1_updates)"
   ]
  },
  {
   "cell_type": "code",
   "execution_count": 30,
   "id": "f185a206",
   "metadata": {},
   "outputs": [
    {
     "name": "stdout",
     "output_type": "stream",
     "text": [
      "OrderedDict([('linear.weight', tensor([[-0.2943]])), ('linear.bias', tensor([1.1962]))])\n"
     ]
    }
   ],
   "source": [
    "remote_model2_updates = remote_model2.get(\n",
    "    request_block=True\n",
    ").state_dict()\n",
    "\n",
    "print(remote_model2_updates)"
   ]
  },
  {
   "cell_type": "markdown",
   "id": "624c0bd6",
   "metadata": {},
   "source": [
    "### Averaging Model Updates"
   ]
  },
  {
   "cell_type": "markdown",
   "id": "d76ecfef",
   "metadata": {},
   "source": [
    "Ideally, there will be a coordinator server with a secure aggreagtor who will get the model updates from different clients and make an aggregation. For the case of simplicity, in this example we will make the Data Sceintist server work as the coordinator."
   ]
  },
  {
   "cell_type": "code",
   "execution_count": 31,
   "id": "e5adaf16",
   "metadata": {},
   "outputs": [],
   "source": [
    "from collections import OrderedDict"
   ]
  },
  {
   "cell_type": "code",
   "execution_count": 32,
   "id": "b150545e",
   "metadata": {},
   "outputs": [
    {
     "name": "stdout",
     "output_type": "stream",
     "text": [
      "OrderedDict([('linear.weight', tensor([[-0.2943]])), ('linear.bias', tensor([1.1962]))])\n"
     ]
    }
   ],
   "source": [
    "avg_updates = OrderedDict()\n",
    "avg_updates[\"linear.weight\"] = (\n",
    "    remote_model1_updates[\"linear.weight\"] + remote_model2_updates[\"linear.weight\"]\n",
    ") / 2\n",
    "avg_updates[\"linear.bias\"] = (\n",
    "    remote_model1_updates[\"linear.bias\"] + remote_model2_updates[\"linear.bias\"]\n",
    ") / 2\n",
    "\n",
    "print(avg_updates)"
   ]
  },
  {
   "cell_type": "markdown",
   "id": "c0e002a9",
   "metadata": {},
   "source": [
    "Let's do the aggregation of the weights. In this example, we will just calculate the average of corresponding weights from each model."
   ]
  },
  {
   "cell_type": "code",
   "execution_count": 33,
   "id": "af277a5c",
   "metadata": {},
   "outputs": [],
   "source": [
    "final_model = linearRegression(torch)"
   ]
  },
  {
   "cell_type": "markdown",
   "id": "6788d3b3",
   "metadata": {},
   "source": [
    "We instantiate a base model and update the parameters of this base model with the ones retrieve from Duet Data Owner data."
   ]
  },
  {
   "cell_type": "code",
   "execution_count": 34,
   "id": "291c518f",
   "metadata": {},
   "outputs": [],
   "source": [
    "final_model.load_state_dict(avg_updates)"
   ]
  },
  {
   "cell_type": "code",
   "execution_count": 35,
   "id": "9c1b8cda",
   "metadata": {},
   "outputs": [],
   "source": [
    "del avg_updates, remote_model1_updates, remote_model2_updates"
   ]
  },
  {
   "cell_type": "markdown",
   "id": "7a4c6b85",
   "metadata": {},
   "source": [
    "## Step 6. Performance evaluation"
   ]
  },
  {
   "cell_type": "markdown",
   "id": "cac37920",
   "metadata": {},
   "source": [
    "Retrieve test dataset to evaluate the model."
   ]
  },
  {
   "cell_type": "code",
   "execution_count": 36,
   "id": "d890ee59",
   "metadata": {},
   "outputs": [],
   "source": [
    "x_test_data = X_test_ptr.get(request_block=True)\n",
    "y_test_data = Y_test_ptr.get(request_block=True)"
   ]
  },
  {
   "cell_type": "code",
   "execution_count": 37,
   "id": "daa3e0c2",
   "metadata": {},
   "outputs": [
    {
     "data": {
      "text/plain": [
       "(torch.Size([125, 1]), torch.Size([125, 1]))"
      ]
     },
     "execution_count": 37,
     "metadata": {},
     "output_type": "execute_result"
    }
   ],
   "source": [
    "x_test_data.shape, y_test_data.shape"
   ]
  },
  {
   "cell_type": "markdown",
   "id": "85f48b29",
   "metadata": {},
   "source": [
    "### Visualization of predicted regression line"
   ]
  },
  {
   "cell_type": "code",
   "execution_count": 38,
   "id": "4e435b37",
   "metadata": {},
   "outputs": [],
   "source": [
    "syft_preds = final_model(x_test_data)"
   ]
  },
  {
   "cell_type": "code",
   "execution_count": 39,
   "id": "f638ea8f",
   "metadata": {},
   "outputs": [
    {
     "data": {
      "image/png": "[encoded data removed]",
      "text/plain": [
       "<Figure size 1008x432 with 1 Axes>"
      ]
     },
     "metadata": {
      "needs_background": "light"
     },
     "output_type": "display_data"
    }
   ],
   "source": [
    "import matplotlib.pyplot as plt\n",
    "\n",
    "plt.figure(figsize=(14,6))\n",
    "plt.title(\"Evaluation results\")\n",
    "#plt.plot(x_t, y_t, '.', alpha=0.5, color='green' ) \n",
    "plt.plot(x_test_data, y_test_data, '.', alpha=0.5, color='blue' ) \n",
    "plt.plot(x_test_data, syft_preds.detach().numpy(), color='black' ) \n",
    "plt.xlabel(r'$x$');\n",
    "plt.ylabel(r'$y$');\n",
    "plt.show()"
   ]
  },
  {
   "cell_type": "markdown",
   "id": "775e049a",
   "metadata": {},
   "source": [
    "## Available functions in Pysyft"
   ]
  },
  {
   "cell_type": "code",
   "execution_count": 40,
   "id": "970c0388",
   "metadata": {},
   "outputs": [
    {
     "data": {
      "text/plain": [
       "Module:\n",
       "\t.Tensor -> <syft.ast.klass.Class object at 0x7fb29666f5e0>\n",
       "\t.BFloat16Tensor -> <syft.ast.klass.Class object at 0x7fb29666f640>\n",
       "\t.BoolTensor -> <syft.ast.klass.Class object at 0x7fb29666f6a0>\n",
       "\t.ByteTensor -> <syft.ast.klass.Class object at 0x7fb29666f700>\n",
       "\t.CharTensor -> <syft.ast.klass.Class object at 0x7fb29666f760>\n",
       "\t.DoubleTensor -> <syft.ast.klass.Class object at 0x7fb29666f7c0>\n",
       "\t.FloatTensor -> <syft.ast.klass.Class object at 0x7fb29666f820>\n",
       "\t.HalfTensor -> <syft.ast.klass.Class object at 0x7fb29666f880>\n",
       "\t.IntTensor -> <syft.ast.klass.Class object at 0x7fb29666f8e0>\n",
       "\t.LongTensor -> <syft.ast.klass.Class object at 0x7fb29666f940>\n",
       "\t.ShortTensor -> <syft.ast.klass.Class object at 0x7fb29666f9a0>\n",
       "\t.nn -> Module:\n",
       "\t\t.Parameter -> <syft.ast.klass.Class object at 0x7fb29666fac0>\n",
       "\t\t.Module -> <syft.ast.klass.Class object at 0x7fb2965c1100>\n",
       "\t\t.Conv2d -> <syft.ast.klass.Class object at 0x7fb2965c15e0>\n",
       "\t\t.Dropout2d -> <syft.ast.klass.Class object at 0x7fb2965c1a00>\n",
       "\t\t.Linear -> <syft.ast.klass.Class object at 0x7fb2965c1d60>\n",
       "\t\t.functional -> Module:\n",
       "\t\t\t.relu -> <syft.ast.callable.Callable object at 0x7fb2965c56a0>\n",
       "\t\t\t.gelu -> <syft.ast.callable.Callable object at 0x7fb2965c5700>\n",
       "\t\t\t.max_pool2d -> <syft.ast.callable.Callable object at 0x7fb2965c5760>\n",
       "\t\t\t.log_softmax -> <syft.ast.callable.Callable object at 0x7fb2965c57c0>\n",
       "\t\t\t.cosine_embedding_loss -> <syft.ast.callable.Callable object at 0x7fb2965cf580>\n",
       "\t\t\t.ctc_loss -> <syft.ast.callable.Callable object at 0x7fb2965cf5e0>\n",
       "\t\t\t.hinge_embedding_loss -> <syft.ast.callable.Callable object at 0x7fb2965cf6a0>\n",
       "\t\t\t.l1_loss -> <syft.ast.callable.Callable object at 0x7fb2965cf700>\n",
       "\t\t\t.margin_ranking_loss -> <syft.ast.callable.Callable object at 0x7fb2965cf7c0>\n",
       "\t\t\t.mse_loss -> <syft.ast.callable.Callable object at 0x7fb2965cf820>\n",
       "\t\t\t.multi_margin_loss -> <syft.ast.callable.Callable object at 0x7fb2965cf8e0>\n",
       "\t\t\t.multilabel_margin_loss -> <syft.ast.callable.Callable object at 0x7fb2965cf9a0>\n",
       "\t\t\t.multilabel_soft_margin_loss -> <syft.ast.callable.Callable object at 0x7fb2965cfa60>\n",
       "\t\t\t.nll_loss -> <syft.ast.callable.Callable object at 0x7fb2965cfac0>\n",
       "\t\t\t.cross_entropy -> <syft.ast.callable.Callable object at 0x7fb2965cfb80>\n",
       "\t\t\t.poisson_nll_loss -> <syft.ast.callable.Callable object at 0x7fb2965cfc40>\n",
       "\t\t\t.smooth_l1_loss -> <syft.ast.callable.Callable object at 0x7fb2965cfd00>\n",
       "\t\t\t.soft_margin_loss -> <syft.ast.callable.Callable object at 0x7fb2965cfdc0>\n",
       "\t\t\t.triplet_margin_loss -> <syft.ast.callable.Callable object at 0x7fb2965cfe80>\n",
       "\n",
       "\t\t.Sequential -> <syft.ast.klass.Class object at 0x7fb2965cf1c0>\n",
       "\t\t.AdaptiveLogSoftmaxWithLoss -> <syft.ast.klass.Class object at 0x7fb2965cff40>\n",
       "\t\t.BCELoss -> <syft.ast.klass.Class object at 0x7fb2965d2100>\n",
       "\t\t.BCEWithLogitsLoss -> <syft.ast.klass.Class object at 0x7fb2965d21c0>\n",
       "\t\t.CTCLoss -> <syft.ast.klass.Class object at 0x7fb2965d22e0>\n",
       "\t\t.CrossEntropyLoss -> <syft.ast.klass.Class object at 0x7fb2965d23a0>\n",
       "\t\t.CosineEmbeddingLoss -> <syft.ast.klass.Class object at 0x7fb2965d24c0>\n",
       "\t\t.HingeEmbeddingLoss -> <syft.ast.klass.Class object at 0x7fb2965d25e0>\n",
       "\t\t.KLDivLoss -> <syft.ast.klass.Class object at 0x7fb2965d2700>\n",
       "\t\t.L1Loss -> <syft.ast.klass.Class object at 0x7fb2965d27c0>\n",
       "\t\t.MSELoss -> <syft.ast.klass.Class object at 0x7fb2965d2880>\n",
       "\t\t.MarginRankingLoss -> <syft.ast.klass.Class object at 0x7fb2965d2940>\n",
       "\t\t.MultiLabelMarginLoss -> <syft.ast.klass.Class object at 0x7fb2965d2a60>\n",
       "\t\t.MultiLabelSoftMarginLoss -> <syft.ast.klass.Class object at 0x7fb2965d2be0>\n",
       "\t\t.MultiMarginLoss -> <syft.ast.klass.Class object at 0x7fb2965d2d00>\n",
       "\t\t.NLLLoss -> <syft.ast.klass.Class object at 0x7fb2965d2e20>\n",
       "\t\t.NLLLoss2d -> <syft.ast.klass.Class object at 0x7fb2965d2ee0>\n",
       "\t\t.PoissonNLLLoss -> <syft.ast.klass.Class object at 0x7fb2965d2fa0>\n",
       "\t\t.SmoothL1Loss -> <syft.ast.klass.Class object at 0x7fb2965d7100>\n",
       "\t\t.SoftMarginLoss -> <syft.ast.klass.Class object at 0x7fb2965d71c0>\n",
       "\t\t.TripletMarginLoss -> <syft.ast.klass.Class object at 0x7fb2965d72e0>\n",
       "\t\t.AdaptiveAvgPool1d -> <syft.ast.klass.Class object at 0x7fb2965d7400>\n",
       "\t\t.AdaptiveAvgPool2d -> <syft.ast.klass.Class object at 0x7fb2965d7a60>\n",
       "\t\t.AdaptiveAvgPool3d -> <syft.ast.klass.Class object at 0x7fb2965db100>\n",
       "\t\t.AdaptiveMaxPool1d -> <syft.ast.klass.Class object at 0x7fb2965db760>\n",
       "\t\t.AdaptiveMaxPool2d -> <syft.ast.klass.Class object at 0x7fb2965dbdc0>\n",
       "\t\t.AdaptiveMaxPool3d -> <syft.ast.klass.Class object at 0x7fb2965de460>\n",
       "\t\t.AlphaDropout -> <syft.ast.klass.Class object at 0x7fb2965deac0>\n",
       "\t\t.AvgPool1d -> <syft.ast.klass.Class object at 0x7fb2965e10a0>\n",
       "\t\t.AvgPool2d -> <syft.ast.klass.Class object at 0x7fb2965e1520>\n",
       "\t\t.AvgPool3d -> <syft.ast.klass.Class object at 0x7fb2965e19a0>\n",
       "\t\t.BatchNorm1d -> <syft.ast.klass.Class object at 0x7fb2965e1e20>\n",
       "\t\t.BatchNorm2d -> <syft.ast.klass.Class object at 0x7fb2965e52e0>\n",
       "\t\t.BatchNorm3d -> <syft.ast.klass.Class object at 0x7fb2965e5760>\n",
       "\t\t.Bilinear -> <syft.ast.klass.Class object at 0x7fb2965e5be0>\n",
       "\t\t.CELU -> <syft.ast.klass.Class object at 0x7fb2965690a0>\n",
       "\t\t.ConstantPad1d -> <syft.ast.klass.Class object at 0x7fb2965694c0>\n",
       "\t\t.ConstantPad2d -> <syft.ast.klass.Class object at 0x7fb296569a60>\n",
       "\t\t.ConstantPad3d -> <syft.ast.klass.Class object at 0x7fb29656c040>\n",
       "\t\t.Container -> <syft.ast.klass.Class object at 0x7fb29656c5e0>\n",
       "\t\t.Conv1d -> <syft.ast.klass.Class object at 0x7fb29656ca60>\n",
       "\t\t.Conv3d -> <syft.ast.klass.Class object at 0x7fb29656ce80>\n",
       "\t\t.ConvTranspose1d -> <syft.ast.klass.Class object at 0x7fb2965712e0>\n",
       "\t\t.ConvTranspose2d -> <syft.ast.klass.Class object at 0x7fb2965718e0>\n",
       "\t\t.ConvTranspose3d -> <syft.ast.klass.Class object at 0x7fb296571ee0>\n",
       "\t\t.CosineSimilarity -> <syft.ast.klass.Class object at 0x7fb296574520>\n",
       "\t\t.CrossMapLRN2d -> <syft.ast.klass.Class object at 0x7fb296574b20>\n",
       "\t\t.DataParallel -> <syft.ast.klass.Class object at 0x7fb296578100>\n",
       "\t\t.Dropout -> <syft.ast.klass.Class object at 0x7fb2965786a0>\n",
       "\t\t.Dropout3d -> <syft.ast.klass.Class object at 0x7fb296578c40>\n",
       "\t\t.ELU -> <syft.ast.klass.Class object at 0x7fb29657c100>\n",
       "\t\t.Embedding -> <syft.ast.klass.Class object at 0x7fb29657c4c0>\n",
       "\t\t.EmbeddingBag -> <syft.ast.klass.Class object at 0x7fb29657c940>\n",
       "\t\t.FeatureAlphaDropout -> <syft.ast.klass.Class object at 0x7fb29657cee0>\n",
       "\t\t.Flatten -> <syft.ast.klass.Class object at 0x7fb29657f640>\n",
       "\t\t.Fold -> <syft.ast.klass.Class object at 0x7fb29657fac0>\n",
       "\t\t.FractionalMaxPool2d -> <syft.ast.klass.Class object at 0x7fb29657fee0>\n",
       "\t\t.FractionalMaxPool3d -> <syft.ast.klass.Class object at 0x7fb296582640>\n",
       "\t\t.GELU -> <syft.ast.klass.Class object at 0x7fb296582d60>\n",
       "\t\t.GLU -> <syft.ast.klass.Class object at 0x7fb2965861c0>\n",
       "\t\t.GRU -> <syft.ast.klass.Class object at 0x7fb296586580>\n",
       "\t\t.GRUCell -> <syft.ast.klass.Class object at 0x7fb296586940>\n",
       "\t\t.GroupNorm -> <syft.ast.klass.Class object at 0x7fb296586dc0>\n",
       "\t\t.Hardshrink -> <syft.ast.klass.Class object at 0x7fb29658a280>\n",
       "\t\t.Hardsigmoid -> <syft.ast.klass.Class object at 0x7fb29658a700>\n",
       "\t\t.Hardswish -> <syft.ast.klass.Class object at 0x7fb29658aac0>\n",
       "\t\t.Hardtanh -> <syft.ast.klass.Class object at 0x7fb29658ae80>\n",
       "\t\t.Identity -> <syft.ast.klass.Class object at 0x7fb29658e340>\n",
       "\t\t.InstanceNorm1d -> <syft.ast.klass.Class object at 0x7fb29658e7c0>\n",
       "\t\t.InstanceNorm2d -> <syft.ast.klass.Class object at 0x7fb29658edc0>\n",
       "\t\t.InstanceNorm3d -> <syft.ast.klass.Class object at 0x7fb296593400>\n",
       "\t\t.LPPool1d -> <syft.ast.klass.Class object at 0x7fb296593a00>\n",
       "\t\t.LPPool2d -> <syft.ast.klass.Class object at 0x7fb296593e80>\n",
       "\t\t.LSTM -> <syft.ast.klass.Class object at 0x7fb296596340>\n",
       "\t\t.LSTMCell -> <syft.ast.klass.Class object at 0x7fb296596760>\n",
       "\t\t.LayerNorm -> <syft.ast.klass.Class object at 0x7fb296596be0>\n",
       "\t\t.LeakyReLU -> <syft.ast.klass.Class object at 0x7fb29659a0a0>\n",
       "\t\t.LocalResponseNorm -> <syft.ast.klass.Class object at 0x7fb29659a520>\n",
       "\t\t.LogSigmoid -> <syft.ast.klass.Class object at 0x7fb29659ab80>\n",
       "\t\t.LogSoftmax -> <syft.ast.klass.Class object at 0x7fb29659e040>\n",
       "\t\t.MaxPool1d -> <syft.ast.klass.Class object at 0x7fb29659e4c0>\n",
       "\t\t.MaxPool2d -> <syft.ast.klass.Class object at 0x7fb29659e940>\n",
       "\t\t.MaxPool3d -> <syft.ast.klass.Class object at 0x7fb29659edc0>\n",
       "\t\t.MaxUnpool1d -> <syft.ast.klass.Class object at 0x7fb2965a1280>\n",
       "\t\t.MaxUnpool2d -> <syft.ast.klass.Class object at 0x7fb2965a1700>\n",
       "\t\t.MaxUnpool3d -> <syft.ast.klass.Class object at 0x7fb2965a1b80>\n",
       "\t\t.ModuleDict -> <syft.ast.klass.Class object at 0x7fb2965a5040>\n",
       "\t\t.ModuleList -> <syft.ast.klass.Class object at 0x7fb2965a54c0>\n",
       "\t\t.MultiheadAttention -> <syft.ast.klass.Class object at 0x7fb2965a5a00>\n",
       "\t\t.PReLU -> <syft.ast.klass.Class object at 0x7fb29652b100>\n",
       "\t\t.PairwiseDistance -> <syft.ast.klass.Class object at 0x7fb29652b520>\n",
       "\t\t.PixelShuffle -> <syft.ast.klass.Class object at 0x7fb29652bb20>\n",
       "\t\t.RNN -> <syft.ast.klass.Class object at 0x7fb29652d100>\n",
       "\t\t.RNNBase -> <syft.ast.klass.Class object at 0x7fb29652d4c0>\n",
       "\t\t.RNNCell -> <syft.ast.klass.Class object at 0x7fb29652d940>\n",
       "\t\t.RNNCellBase -> <syft.ast.klass.Class object at 0x7fb29652ddc0>\n",
       "\t\t.RReLU -> <syft.ast.klass.Class object at 0x7fb296531280>\n",
       "\t\t.ReLU -> <syft.ast.klass.Class object at 0x7fb2965316a0>\n",
       "\t\t.ReLU6 -> <syft.ast.klass.Class object at 0x7fb296531ac0>\n",
       "\t\t.ReflectionPad1d -> <syft.ast.klass.Class object at 0x7fb296531ee0>\n",
       "\t\t.ReflectionPad2d -> <syft.ast.klass.Class object at 0x7fb296536520>\n",
       "\t\t.ReplicationPad1d -> <syft.ast.klass.Class object at 0x7fb296536b20>\n",
       "\t\t.ReplicationPad2d -> <syft.ast.klass.Class object at 0x7fb296539160>\n",
       "\t\t.ReplicationPad3d -> <syft.ast.klass.Class object at 0x7fb296539760>\n",
       "\t\t.SELU -> <syft.ast.klass.Class object at 0x7fb296539d60>\n",
       "\t\t.Sigmoid -> <syft.ast.klass.Class object at 0x7fb29653b340>\n",
       "\t\t.Softmax -> <syft.ast.klass.Class object at 0x7fb29653b7c0>\n",
       "\t\t.Softmax2d -> <syft.ast.klass.Class object at 0x7fb29653bc40>\n",
       "\t\t.Softmin -> <syft.ast.klass.Class object at 0x7fb296540100>\n",
       "\t\t.Softplus -> <syft.ast.klass.Class object at 0x7fb296540580>\n",
       "\t\t.Softshrink -> <syft.ast.klass.Class object at 0x7fb296540a00>\n",
       "\t\t.Softsign -> <syft.ast.klass.Class object at 0x7fb296540e80>\n",
       "\t\t.SyncBatchNorm -> <syft.ast.klass.Class object at 0x7fb296545340>\n",
       "\t\t.Tanh -> <syft.ast.klass.Class object at 0x7fb2965458e0>\n",
       "\t\t.Tanhshrink -> <syft.ast.klass.Class object at 0x7fb296545d00>\n",
       "\t\t.Threshold -> <syft.ast.klass.Class object at 0x7fb2965491c0>\n",
       "\t\t.Transformer -> <syft.ast.klass.Class object at 0x7fb296549640>\n",
       "\t\t.TransformerDecoder -> <syft.ast.klass.Class object at 0x7fb296549ac0>\n",
       "\t\t.TransformerDecoderLayer -> <syft.ast.klass.Class object at 0x7fb29654c220>\n",
       "\t\t.TransformerEncoder -> <syft.ast.klass.Class object at 0x7fb29654c880>\n",
       "\t\t.TransformerEncoderLayer -> <syft.ast.klass.Class object at 0x7fb29654cfa0>\n",
       "\t\t.Unfold -> <syft.ast.klass.Class object at 0x7fb29654f640>\n",
       "\t\t.Upsample -> <syft.ast.klass.Class object at 0x7fb29654fa60>\n",
       "\t\t.UpsamplingBilinear2d -> <syft.ast.klass.Class object at 0x7fb29654fee0>\n",
       "\t\t.UpsamplingNearest2d -> <syft.ast.klass.Class object at 0x7fb2965515e0>\n",
       "\t\t.ZeroPad2d -> <syft.ast.klass.Class object at 0x7fb296551d00>\n",
       "\n",
       "\t.return_types -> Module:\n",
       "\t\t.cummax -> <syft.ast.klass.Class object at 0x7fb296640820>\n",
       "\t\t.cummin -> <syft.ast.klass.Class object at 0x7fb296640880>\n",
       "\t\t.eig -> <syft.ast.klass.Class object at 0x7fb2966408e0>\n",
       "\t\t.kthvalue -> <syft.ast.klass.Class object at 0x7fb296640940>\n",
       "\t\t.lstsq -> <syft.ast.klass.Class object at 0x7fb2966409a0>\n",
       "\t\t.slogdet -> <syft.ast.klass.Class object at 0x7fb296640a00>\n",
       "\t\t.qr -> <syft.ast.klass.Class object at 0x7fb296640a60>\n",
       "\t\t.mode -> <syft.ast.klass.Class object at 0x7fb296640ac0>\n",
       "\t\t.solve -> <syft.ast.klass.Class object at 0x7fb296640b20>\n",
       "\t\t.sort -> <syft.ast.klass.Class object at 0x7fb296640b80>\n",
       "\t\t.symeig -> <syft.ast.klass.Class object at 0x7fb296640be0>\n",
       "\t\t.topk -> <syft.ast.klass.Class object at 0x7fb296640c40>\n",
       "\t\t.triangular_solve -> <syft.ast.klass.Class object at 0x7fb296640d00>\n",
       "\t\t.svd -> <syft.ast.klass.Class object at 0x7fb296640d60>\n",
       "\t\t.geqrf -> <syft.ast.klass.Class object at 0x7fb296640dc0>\n",
       "\t\t.median -> <syft.ast.klass.Class object at 0x7fb296640e20>\n",
       "\t\t.max -> <syft.ast.klass.Class object at 0x7fb296640e80>\n",
       "\t\t.min -> <syft.ast.klass.Class object at 0x7fb296640ee0>\n",
       "\n",
       "\t.Size -> <syft.ast.klass.Class object at 0x7fb29661d100>\n",
       "\t.set_grad_enabled -> <syft.ast.klass.Class object at 0x7fb29661d400>\n",
       "\t.zeros -> <syft.ast.callable.Callable object at 0x7fb29661d460>\n",
       "\t.randn -> <syft.ast.callable.Callable object at 0x7fb29661d4c0>\n",
       "\t.ones_like -> <syft.ast.callable.Callable object at 0x7fb29661d520>\n",
       "\t.arange -> <syft.ast.callable.Callable object at 0x7fb29661d640>\n",
       "\t.abs_ -> <syft.ast.callable.Callable object at 0x7fb29661d6a0>\n",
       "\t.abs -> <syft.ast.callable.Callable object at 0x7fb29661d700>\n",
       "\t.acos_ -> <syft.ast.callable.Callable object at 0x7fb29661d760>\n",
       "\t.acos -> <syft.ast.callable.Callable object at 0x7fb29661d7c0>\n",
       "\t.add -> <syft.ast.callable.Callable object at 0x7fb29661d820>\n",
       "\t.addbmm -> <syft.ast.callable.Callable object at 0x7fb29661d880>\n",
       "\t.addcdiv -> <syft.ast.callable.Callable object at 0x7fb29661d8e0>\n",
       "\t.addcmul -> <syft.ast.callable.Callable object at 0x7fb29661d940>\n",
       "\t.addmm -> <syft.ast.callable.Callable object at 0x7fb29661d9a0>\n",
       "\t.addmv_ -> <syft.ast.callable.Callable object at 0x7fb29661da00>\n",
       "\t.addmv -> <syft.ast.callable.Callable object at 0x7fb29661da60>\n",
       "\t.addr -> <syft.ast.callable.Callable object at 0x7fb29661dac0>\n",
       "\t.all -> <syft.ast.callable.Callable object at 0x7fb29661db20>\n",
       "\t.allclose -> <syft.ast.callable.Callable object at 0x7fb29661db80>\n",
       "\t.angle -> <syft.ast.callable.Callable object at 0x7fb29661dbe0>\n",
       "\t.any -> <syft.ast.callable.Callable object at 0x7fb29661dc40>\n",
       "\t.argmax -> <syft.ast.callable.Callable object at 0x7fb29661dca0>\n",
       "\t.argmin -> <syft.ast.callable.Callable object at 0x7fb29661dd00>\n",
       "\t.argsort -> <syft.ast.callable.Callable object at 0x7fb29661dd60>\n",
       "\t.as_strided_ -> <syft.ast.callable.Callable object at 0x7fb29661ddc0>\n",
       "\t.as_strided -> <syft.ast.callable.Callable object at 0x7fb29661de20>\n",
       "\t.asin_ -> <syft.ast.callable.Callable object at 0x7fb29661de80>\n",
       "\t.asin -> <syft.ast.callable.Callable object at 0x7fb29661dee0>\n",
       "\t.atan_ -> <syft.ast.callable.Callable object at 0x7fb29661df40>\n",
       "\t.atan -> <syft.ast.callable.Callable object at 0x7fb29661dfa0>\n",
       "\t.atan2 -> <syft.ast.callable.Callable object at 0x7fb296622040>\n",
       "\t.baddbmm -> <syft.ast.callable.Callable object at 0x7fb2966220a0>\n",
       "\t.bernoulli -> <syft.ast.callable.Callable object at 0x7fb296622100>\n",
       "\t.bitwise_and -> <syft.ast.callable.Callable object at 0x7fb296622160>\n",
       "\t.bitwise_not -> <syft.ast.callable.Callable object at 0x7fb2966221c0>\n",
       "\t.bitwise_or -> <syft.ast.callable.Callable object at 0x7fb296622220>\n",
       "\t.bitwise_xor -> <syft.ast.callable.Callable object at 0x7fb296622280>\n",
       "\t.bmm -> <syft.ast.callable.Callable object at 0x7fb2966222e0>\n",
       "\t.cat -> <syft.ast.callable.Callable object at 0x7fb296622340>\n",
       "\t.ceil_ -> <syft.ast.callable.Callable object at 0x7fb2966223a0>\n",
       "\t.ceil -> <syft.ast.callable.Callable object at 0x7fb296622400>\n",
       "\t.cholesky_inverse -> <syft.ast.callable.Callable object at 0x7fb296622460>\n",
       "\t.cholesky_solve -> <syft.ast.callable.Callable object at 0x7fb2966224c0>\n",
       "\t.cholesky -> <syft.ast.callable.Callable object at 0x7fb296622520>\n",
       "\t.chunk -> <syft.ast.callable.Callable object at 0x7fb296622580>\n",
       "\t.clamp_ -> <syft.ast.callable.Callable object at 0x7fb2966225e0>\n",
       "\t.clamp_max_ -> <syft.ast.callable.Callable object at 0x7fb296622640>\n",
       "\t.clamp_max -> <syft.ast.callable.Callable object at 0x7fb2966226a0>\n",
       "\t.clamp_min_ -> <syft.ast.callable.Callable object at 0x7fb296622700>\n",
       "\t.clamp_min -> <syft.ast.callable.Callable object at 0x7fb296622760>\n",
       "\t.clamp -> <syft.ast.callable.Callable object at 0x7fb2966227c0>\n",
       "\t.clone -> <syft.ast.callable.Callable object at 0x7fb296622820>\n",
       "\t.conj -> <syft.ast.callable.Callable object at 0x7fb296622880>\n",
       "\t.cos_ -> <syft.ast.callable.Callable object at 0x7fb2966228e0>\n",
       "\t.cos -> <syft.ast.callable.Callable object at 0x7fb296622940>\n",
       "\t.cosh_ -> <syft.ast.callable.Callable object at 0x7fb2966229a0>\n",
       "\t.cosh -> <syft.ast.callable.Callable object at 0x7fb296622a00>\n",
       "\t.cross -> <syft.ast.callable.Callable object at 0x7fb296622a60>\n",
       "\t.cummax -> <syft.ast.callable.Callable object at 0x7fb296622ac0>\n",
       "\t.cummin -> <syft.ast.callable.Callable object at 0x7fb296622b20>\n",
       "\t.cumprod -> <syft.ast.callable.Callable object at 0x7fb296622b80>\n",
       "\t.cumsum -> <syft.ast.callable.Callable object at 0x7fb296622be0>\n",
       "\t.dequantize -> <syft.ast.callable.Callable object at 0x7fb296622c40>\n",
       "\t.det -> <syft.ast.callable.Callable object at 0x7fb296622ca0>\n",
       "\t.detach -> <syft.ast.callable.Callable object at 0x7fb296622d00>\n",
       "\t.diag_embed -> <syft.ast.callable.Callable object at 0x7fb296622d60>\n",
       "\t.diag -> <syft.ast.callable.Callable object at 0x7fb296622dc0>\n",
       "\t.diagflat -> <syft.ast.callable.Callable object at 0x7fb296622e20>\n",
       "\t.diagonal -> <syft.ast.callable.Callable object at 0x7fb296622e80>\n",
       "\t.digamma -> <syft.ast.callable.Callable object at 0x7fb296622ee0>\n",
       "\t.dist -> <syft.ast.callable.Callable object at 0x7fb296622f40>\n",
       "\t.div -> <syft.ast.callable.Callable object at 0x7fb296622fa0>\n",
       "\t.dot -> <syft.ast.callable.Callable object at 0x7fb296625040>\n",
       "\t.eig -> <syft.ast.callable.Callable object at 0x7fb2966250a0>\n",
       "\t.eq -> <syft.ast.callable.Callable object at 0x7fb296625100>\n",
       "\t.equal -> <syft.ast.callable.Callable object at 0x7fb296625160>\n",
       "\t.erf_ -> <syft.ast.callable.Callable object at 0x7fb2966251c0>\n",
       "\t.erf -> <syft.ast.callable.Callable object at 0x7fb296625220>\n",
       "\t.erfc_ -> <syft.ast.callable.Callable object at 0x7fb296625280>\n",
       "\t.erfc -> <syft.ast.callable.Callable object at 0x7fb2966252e0>\n",
       "\t.erfinv -> <syft.ast.callable.Callable object at 0x7fb296625340>\n",
       "\t.exp_ -> <syft.ast.callable.Callable object at 0x7fb2966253a0>\n",
       "\t.exp -> <syft.ast.callable.Callable object at 0x7fb296625400>\n",
       "\t.expm1_ -> <syft.ast.callable.Callable object at 0x7fb296625460>\n",
       "\t.expm1 -> <syft.ast.callable.Callable object at 0x7fb2966254c0>\n",
       "\t.fft -> Module:\n",
       "\n",
       "\t.fill_ -> <syft.ast.callable.Callable object at 0x7fb296625580>\n",
       "\t.flatten -> <syft.ast.callable.Callable object at 0x7fb2966255e0>\n",
       "\t.flip -> <syft.ast.callable.Callable object at 0x7fb296625640>\n",
       "\t.floor_ -> <syft.ast.callable.Callable object at 0x7fb2966256a0>\n",
       "\t.floor_divide -> <syft.ast.callable.Callable object at 0x7fb296625700>\n",
       "\t.floor -> <syft.ast.callable.Callable object at 0x7fb296625760>\n",
       "\t.fmod -> <syft.ast.callable.Callable object at 0x7fb2966257c0>\n",
       "\t.frac_ -> <syft.ast.callable.Callable object at 0x7fb296625820>\n",
       "\t.frac -> <syft.ast.callable.Callable object at 0x7fb296625880>\n",
       "\t.from_numpy -> <syft.ast.callable.Callable object at 0x7fb2966258e0>\n",
       "\t.gather -> <syft.ast.callable.Callable object at 0x7fb296625940>\n",
       "\t.ge -> <syft.ast.callable.Callable object at 0x7fb2966259a0>\n",
       "\t.geqrf -> <syft.ast.callable.Callable object at 0x7fb296625a00>\n",
       "\t.ger -> <syft.ast.callable.Callable object at 0x7fb296625a60>\n",
       "\t.get_device -> <syft.ast.callable.Callable object at 0x7fb296625ac0>\n",
       "\t.gt -> <syft.ast.callable.Callable object at 0x7fb296625b20>\n",
       "\t.hardshrink -> <syft.ast.callable.Callable object at 0x7fb296625b80>\n",
       "\t.histc -> <syft.ast.callable.Callable object at 0x7fb296625be0>\n",
       "\t.index_add -> <syft.ast.callable.Callable object at 0x7fb296625c40>\n",
       "\t.index_copy -> <syft.ast.callable.Callable object at 0x7fb296625ca0>\n",
       "\t.index_fill -> <syft.ast.callable.Callable object at 0x7fb296625d00>\n",
       "\t.index_put_ -> <syft.ast.callable.Callable object at 0x7fb296625d60>\n",
       "\t.index_put -> <syft.ast.callable.Callable object at 0x7fb296625dc0>\n",
       "\t.index_select -> <syft.ast.callable.Callable object at 0x7fb296625e20>\n",
       "\t.int_repr -> <syft.ast.callable.Callable object at 0x7fb296625e80>\n",
       "\t.inverse -> <syft.ast.callable.Callable object at 0x7fb296625ee0>\n",
       "\t.is_complex -> <syft.ast.callable.Callable object at 0x7fb296625f40>\n",
       "\t.is_distributed -> <syft.ast.callable.Callable object at 0x7fb296625fa0>\n",
       "\t.is_floating_point -> <syft.ast.callable.Callable object at 0x7fb2965aa040>\n",
       "\t.is_nonzero -> <syft.ast.callable.Callable object at 0x7fb2965aa0a0>\n",
       "\t.is_same_size -> <syft.ast.callable.Callable object at 0x7fb2965aa100>\n",
       "\t.is_signed -> <syft.ast.callable.Callable object at 0x7fb2965aa160>\n",
       "\t.isclose -> <syft.ast.callable.Callable object at 0x7fb2965aa1c0>\n",
       "\t.kthvalue -> <syft.ast.callable.Callable object at 0x7fb2965aa220>\n",
       "\t.le -> <syft.ast.callable.Callable object at 0x7fb2965aa280>\n",
       "\t.lerp -> <syft.ast.callable.Callable object at 0x7fb2965aa2e0>\n",
       "\t.lgamma -> <syft.ast.callable.Callable object at 0x7fb2965aa340>\n",
       "\t.log_ -> <syft.ast.callable.Callable object at 0x7fb2965aa3a0>\n",
       "\t.log_softmax -> <syft.ast.callable.Callable object at 0x7fb2965aa400>\n",
       "\t.log -> <syft.ast.callable.Callable object at 0x7fb2965aa460>\n",
       "\t.log10_ -> <syft.ast.callable.Callable object at 0x7fb2965aa4c0>\n",
       "\t.log10 -> <syft.ast.callable.Callable object at 0x7fb2965aa520>\n",
       "\t.log1p_ -> <syft.ast.callable.Callable object at 0x7fb2965aa580>\n",
       "\t.log1p -> <syft.ast.callable.Callable object at 0x7fb2965aa5e0>\n",
       "\t.log2_ -> <syft.ast.callable.Callable object at 0x7fb2965aa640>\n",
       "\t.log2 -> <syft.ast.callable.Callable object at 0x7fb2965aa6a0>\n",
       "\t.logdet -> <syft.ast.callable.Callable object at 0x7fb2965aa700>\n",
       "\t.logical_and -> <syft.ast.callable.Callable object at 0x7fb2965aa760>\n",
       "\t.logical_not -> <syft.ast.callable.Callable object at 0x7fb2965aa7c0>\n",
       "\t.logical_or -> <syft.ast.callable.Callable object at 0x7fb2965aa820>\n",
       "\t.logical_xor -> <syft.ast.callable.Callable object at 0x7fb2965aa880>\n",
       "\t.logsumexp -> <syft.ast.callable.Callable object at 0x7fb2965aa8e0>\n",
       "\t.lstsq -> <syft.ast.callable.Callable object at 0x7fb2965aa940>\n",
       "\t.lt -> <syft.ast.callable.Callable object at 0x7fb2965aa9a0>\n",
       "\t.lu_solve -> <syft.ast.callable.Callable object at 0x7fb2965aaa00>\n",
       "\t.lu -> <syft.ast.callable.Callable object at 0x7fb2965aaa60>\n",
       "\t.masked_fill -> <syft.ast.callable.Callable object at 0x7fb2965aaac0>\n",
       "\t.masked_scatter -> <syft.ast.callable.Callable object at 0x7fb2965aab20>\n",
       "\t.masked_select -> <syft.ast.callable.Callable object at 0x7fb2965aab80>\n",
       "\t.matmul -> <syft.ast.callable.Callable object at 0x7fb2965aabe0>\n",
       "\t.matrix_power -> <syft.ast.callable.Callable object at 0x7fb2965aac40>\n",
       "\t.mean -> <syft.ast.callable.Callable object at 0x7fb2965aaca0>\n",
       "\t.mm -> <syft.ast.callable.Callable object at 0x7fb2965aad00>\n",
       "\t.mode -> <syft.ast.callable.Callable object at 0x7fb2965aad60>\n",
       "\t.mul -> <syft.ast.callable.Callable object at 0x7fb2965aadc0>\n",
       "\t.multinomial -> <syft.ast.callable.Callable object at 0x7fb2965aae20>\n",
       "\t.mv -> <syft.ast.callable.Callable object at 0x7fb2965aae80>\n",
       "\t.mvlgamma -> <syft.ast.callable.Callable object at 0x7fb2965aaee0>\n",
       "\t.narrow -> <syft.ast.callable.Callable object at 0x7fb2965aaf40>\n",
       "\t.ne -> <syft.ast.callable.Callable object at 0x7fb2965aafa0>\n",
       "\t.neg_ -> <syft.ast.callable.Callable object at 0x7fb2965ae040>\n",
       "\t.neg -> <syft.ast.callable.Callable object at 0x7fb2965ae0a0>\n",
       "\t.nonzero -> <syft.ast.callable.Callable object at 0x7fb2965ae100>\n",
       "\t.norm -> <syft.ast.callable.Callable object at 0x7fb2965ae160>\n",
       "\t.orgqr -> <syft.ast.callable.Callable object at 0x7fb2965ae1c0>\n",
       "\t.ormqr -> <syft.ast.callable.Callable object at 0x7fb2965ae220>\n",
       "\t.pinverse -> <syft.ast.callable.Callable object at 0x7fb2965ae280>\n",
       "\t.polygamma -> <syft.ast.callable.Callable object at 0x7fb2965ae2e0>\n",
       "\t.pow -> <syft.ast.callable.Callable object at 0x7fb2965ae340>\n",
       "\t.prelu -> <syft.ast.callable.Callable object at 0x7fb2965ae3a0>\n",
       "\t.q_per_channel_axis -> <syft.ast.callable.Callable object at 0x7fb2965ae400>\n",
       "\t.q_per_channel_scales -> <syft.ast.callable.Callable object at 0x7fb2965ae460>\n",
       "\t.q_per_channel_zero_points -> <syft.ast.callable.Callable object at 0x7fb2965ae4c0>\n",
       "\t.q_scale -> <syft.ast.callable.Callable object at 0x7fb2965ae520>\n",
       "\t.q_zero_point -> <syft.ast.callable.Callable object at 0x7fb2965ae580>\n",
       "\t.qr -> <syft.ast.callable.Callable object at 0x7fb2965ae5e0>\n",
       "\t.reciprocal_ -> <syft.ast.callable.Callable object at 0x7fb2965ae640>\n",
       "\t.reciprocal -> <syft.ast.callable.Callable object at 0x7fb2965ae6a0>\n",
       "\t.relu_ -> <syft.ast.callable.Callable object at 0x7fb2965ae700>\n",
       "\t.relu -> <syft.ast.callable.Callable object at 0x7fb2965ae760>\n",
       "\t.remainder -> <syft.ast.callable.Callable object at 0x7fb2965ae7c0>\n",
       "\t.renorm -> <syft.ast.callable.Callable object at 0x7fb2965ae820>\n",
       "\t.repeat_interleave -> <syft.ast.callable.Callable object at 0x7fb2965ae880>\n",
       "\t.reshape -> <syft.ast.callable.Callable object at 0x7fb2965ae8e0>\n",
       "\t.resize_as_ -> <syft.ast.callable.Callable object at 0x7fb2965ae940>\n",
       "\t.roll -> <syft.ast.callable.Callable object at 0x7fb2965ae9a0>\n",
       "\t.rot90 -> <syft.ast.callable.Callable object at 0x7fb2965aea00>\n",
       "\t.round_ -> <syft.ast.callable.Callable object at 0x7fb2965aea60>\n",
       "\t.round -> <syft.ast.callable.Callable object at 0x7fb2965aeac0>\n",
       "\t.rsqrt_ -> <syft.ast.callable.Callable object at 0x7fb2965aeb20>\n",
       "\t.rsqrt -> <syft.ast.callable.Callable object at 0x7fb2965aeb80>\n",
       "\t.scatter_add -> <syft.ast.callable.Callable object at 0x7fb2965aebe0>\n",
       "\t.scatter -> <syft.ast.callable.Callable object at 0x7fb2965aec40>\n",
       "\t.select -> <syft.ast.callable.Callable object at 0x7fb2965aeca0>\n",
       "\t.sigmoid_ -> <syft.ast.callable.Callable object at 0x7fb2965aed00>\n",
       "\t.sigmoid -> <syft.ast.callable.Callable object at 0x7fb2965aed60>\n",
       "\t.sign -> <syft.ast.callable.Callable object at 0x7fb2965aedc0>\n",
       "\t.sin_ -> <syft.ast.callable.Callable object at 0x7fb2965aee20>\n",
       "\t.sin -> <syft.ast.callable.Callable object at 0x7fb2965aee80>\n",
       "\t.sinh_ -> <syft.ast.callable.Callable object at 0x7fb2965aeee0>\n",
       "\t.sinh -> <syft.ast.callable.Callable object at 0x7fb2965aef40>\n",
       "\t.slogdet -> <syft.ast.callable.Callable object at 0x7fb2965aefa0>\n",
       "\t.softmax -> <syft.ast.callable.Callable object at 0x7fb2965b3040>\n",
       "\t.solve -> <syft.ast.callable.Callable object at 0x7fb2965b30a0>\n",
       "\t.sort -> <syft.ast.callable.Callable object at 0x7fb2965b3100>\n",
       "\t.split_with_sizes -> <syft.ast.callable.Callable object at 0x7fb2965b3160>\n",
       "\t.split -> <syft.ast.callable.Callable object at 0x7fb2965b31c0>\n",
       "\t.sqrt_ -> <syft.ast.callable.Callable object at 0x7fb2965b3220>\n",
       "\t.sqrt -> <syft.ast.callable.Callable object at 0x7fb2965b3280>\n",
       "\t.square_ -> <syft.ast.callable.Callable object at 0x7fb2965b32e0>\n",
       "\t.square -> <syft.ast.callable.Callable object at 0x7fb2965b3340>\n",
       "\t.squeeze -> <syft.ast.callable.Callable object at 0x7fb2965b33a0>\n",
       "\t.stack -> <syft.ast.callable.Callable object at 0x7fb2965b3400>\n",
       "\t.std -> <syft.ast.callable.Callable object at 0x7fb2965b3460>\n",
       "\t.stft -> <syft.ast.callable.Callable object at 0x7fb2965b34c0>\n",
       "\t.sub -> <syft.ast.callable.Callable object at 0x7fb2965b3520>\n",
       "\t.sum -> <syft.ast.callable.Callable object at 0x7fb2965b3580>\n",
       "\t.svd -> <syft.ast.callable.Callable object at 0x7fb2965b35e0>\n",
       "\t.symeig -> <syft.ast.callable.Callable object at 0x7fb2965b3640>\n",
       "\t.t -> <syft.ast.callable.Callable object at 0x7fb2965b36a0>\n",
       "\t.take -> <syft.ast.callable.Callable object at 0x7fb2965b3700>\n",
       "\t.tan_ -> <syft.ast.callable.Callable object at 0x7fb2965b3760>\n",
       "\t.tan -> <syft.ast.callable.Callable object at 0x7fb2965b37c0>\n",
       "\t.tanh_ -> <syft.ast.callable.Callable object at 0x7fb2965b3820>\n",
       "\t.tanh -> <syft.ast.callable.Callable object at 0x7fb2965b3880>\n",
       "\t.topk -> <syft.ast.callable.Callable object at 0x7fb2965b38e0>\n",
       "\t.trace -> <syft.ast.callable.Callable object at 0x7fb2965b3940>\n",
       "\t.transpose -> <syft.ast.callable.Callable object at 0x7fb2965b39a0>\n",
       "\t.triangular_solve -> <syft.ast.callable.Callable object at 0x7fb2965b3a00>\n",
       "\t.tril -> <syft.ast.callable.Callable object at 0x7fb2965b3a60>\n",
       "\t.triu -> <syft.ast.callable.Callable object at 0x7fb2965b3ac0>\n",
       "\t.true_divide -> <syft.ast.callable.Callable object at 0x7fb2965b3b20>\n",
       "\t.trunc_ -> <syft.ast.callable.Callable object at 0x7fb2965b3b80>\n",
       "\t.trunc -> <syft.ast.callable.Callable object at 0x7fb2965b3be0>\n",
       "\t.unique_consecutive -> <syft.ast.callable.Callable object at 0x7fb2965b3c40>\n",
       "\t.unique -> <syft.ast.callable.Callable object at 0x7fb2965b3ca0>\n",
       "\t.unsqueeze -> <syft.ast.callable.Callable object at 0x7fb2965b3d00>\n",
       "\t.var -> <syft.ast.callable.Callable object at 0x7fb2965b3d60>\n",
       "\t.unsafe_chunk -> <syft.ast.callable.Callable object at 0x7fb2965b3dc0>\n",
       "\t.absolute -> <syft.ast.callable.Callable object at 0x7fb2965b3e20>\n",
       "\t.acosh_ -> <syft.ast.callable.Callable object at 0x7fb2965b3e80>\n",
       "\t.acosh -> <syft.ast.callable.Callable object at 0x7fb2965b3ee0>\n",
       "\t.asinh_ -> <syft.ast.callable.Callable object at 0x7fb2965b3f40>\n",
       "\t.asinh -> <syft.ast.callable.Callable object at 0x7fb2965b3fa0>\n",
       "\t.atanh_ -> <syft.ast.callable.Callable object at 0x7fb2965b6040>\n",
       "\t.atanh -> <syft.ast.callable.Callable object at 0x7fb2965b60a0>\n",
       "\t.deg2rad_ -> <syft.ast.callable.Callable object at 0x7fb2965b6100>\n",
       "\t.deg2rad -> <syft.ast.callable.Callable object at 0x7fb2965b6160>\n",
       "\t.fliplr -> <syft.ast.callable.Callable object at 0x7fb2965b61c0>\n",
       "\t.flipud -> <syft.ast.callable.Callable object at 0x7fb2965b6220>\n",
       "\t.isfinite -> <syft.ast.callable.Callable object at 0x7fb2965b6280>\n",
       "\t.isinf -> <syft.ast.callable.Callable object at 0x7fb2965b62e0>\n",
       "\t.isnan -> <syft.ast.callable.Callable object at 0x7fb2965b6340>\n",
       "\t.logaddexp -> <syft.ast.callable.Callable object at 0x7fb2965b63a0>\n",
       "\t.logaddexp2 -> <syft.ast.callable.Callable object at 0x7fb2965b6400>\n",
       "\t.logcumsumexp -> <syft.ast.callable.Callable object at 0x7fb2965b6460>\n",
       "\t.rad2deg_ -> <syft.ast.callable.Callable object at 0x7fb2965b64c0>\n",
       "\t.rad2deg -> <syft.ast.callable.Callable object at 0x7fb2965b6520>\n",
       "\t.istft -> <syft.ast.callable.Callable object at 0x7fb2965b6580>\n",
       "\t.amax -> <syft.ast.callable.Callable object at 0x7fb2965b65e0>\n",
       "\t.amin -> <syft.ast.callable.Callable object at 0x7fb2965b6640>\n",
       "\t.arccos -> <syft.ast.callable.Callable object at 0x7fb2965b66a0>\n",
       "\t.arccos_ -> <syft.ast.callable.Callable object at 0x7fb2965b6700>\n",
       "\t.arccosh -> <syft.ast.callable.Callable object at 0x7fb2965b6760>\n",
       "\t.arccosh_ -> <syft.ast.callable.Callable object at 0x7fb2965b67c0>\n",
       "\t.arcsin -> <syft.ast.callable.Callable object at 0x7fb2965b6820>\n",
       "\t.arcsin_ -> <syft.ast.callable.Callable object at 0x7fb2965b6880>\n",
       "\t.arcsinh -> <syft.ast.callable.Callable object at 0x7fb2965b68e0>\n",
       "\t.arcsinh_ -> <syft.ast.callable.Callable object at 0x7fb2965b6940>\n",
       "\t.arctan -> <syft.ast.callable.Callable object at 0x7fb2965b69a0>\n",
       "\t.arctan_ -> <syft.ast.callable.Callable object at 0x7fb2965b6a00>\n",
       "\t.arctanh -> <syft.ast.callable.Callable object at 0x7fb2965b6a60>\n",
       "\t.arctanh_ -> <syft.ast.callable.Callable object at 0x7fb2965b6ac0>\n",
       "\t.clip -> <syft.ast.callable.Callable object at 0x7fb2965b6b20>\n",
       "\t.clip_ -> <syft.ast.callable.Callable object at 0x7fb2965b6b80>\n",
       "\t.count_nonzero -> <syft.ast.callable.Callable object at 0x7fb2965b6be0>\n",
       "\t.divide -> <syft.ast.callable.Callable object at 0x7fb2965b6c40>\n",
       "\t.exp2 -> <syft.ast.callable.Callable object at 0x7fb2965b6d00>\n",
       "\t.exp2_ -> <syft.ast.callable.Callable object at 0x7fb2965b6d60>\n",
       "\t.fix -> <syft.ast.callable.Callable object at 0x7fb2965b6dc0>\n",
       "\t.fix_ -> <syft.ast.callable.Callable object at 0x7fb2965b6e20>\n",
       "\t.gcd -> <syft.ast.callable.Callable object at 0x7fb2965b6e80>\n",
       "\t.gcd_ -> <syft.ast.callable.Callable object at 0x7fb2965b6ee0>\n",
       "\t.greater -> <syft.ast.callable.Callable object at 0x7fb2965b6f40>\n",
       "\t.greater_equal -> <syft.ast.callable.Callable object at 0x7fb2965b6fa0>\n",
       "\t.heaviside -> <syft.ast.callable.Callable object at 0x7fb2965ba040>\n",
       "\t.hypot -> <syft.ast.callable.Callable object at 0x7fb2965ba0a0>\n",
       "\t.i0 -> <syft.ast.callable.Callable object at 0x7fb2965ba100>\n",
       "\t.i0_ -> <syft.ast.callable.Callable object at 0x7fb2965ba160>\n",
       "\t.isneginf -> <syft.ast.callable.Callable object at 0x7fb2965ba1c0>\n",
       "\t.isposinf -> <syft.ast.callable.Callable object at 0x7fb2965ba220>\n",
       "\t.isreal -> <syft.ast.callable.Callable object at 0x7fb2965ba280>\n",
       "\t.lcm -> <syft.ast.callable.Callable object at 0x7fb2965ba2e0>\n",
       "\t.lcm_ -> <syft.ast.callable.Callable object at 0x7fb2965ba340>\n",
       "\t.less -> <syft.ast.callable.Callable object at 0x7fb2965ba3a0>\n",
       "\t.less_equal -> <syft.ast.callable.Callable object at 0x7fb2965ba400>\n",
       "\t.logit -> <syft.ast.callable.Callable object at 0x7fb2965ba460>\n",
       "\t.logit_ -> <syft.ast.callable.Callable object at 0x7fb2965ba4c0>\n",
       "\t.maximum -> <syft.ast.callable.Callable object at 0x7fb2965ba520>\n",
       "\t.minimum -> <syft.ast.callable.Callable object at 0x7fb2965ba580>\n",
       "\t.matrix_exp -> <syft.ast.callable.Callable object at 0x7fb2965ba5e0>\n",
       "\t.multiply -> <syft.ast.callable.Callable object at 0x7fb2965ba640>\n",
       "\t.nanquantile -> <syft.ast.callable.Callable object at 0x7fb2965ba6a0>\n",
       "\t.nansum -> <syft.ast.callable.Callable object at 0x7fb2965ba700>\n",
       "\t.negative -> <syft.ast.callable.Callable object at 0x7fb2965ba760>\n",
       "\t.negative_ -> <syft.ast.callable.Callable object at 0x7fb2965ba7c0>\n",
       "\t.nextafter -> <syft.ast.callable.Callable object at 0x7fb2965ba820>\n",
       "\t.outer -> <syft.ast.callable.Callable object at 0x7fb2965ba880>\n",
       "\t.quantile -> <syft.ast.callable.Callable object at 0x7fb2965ba8e0>\n",
       "\t.sgn -> <syft.ast.callable.Callable object at 0x7fb2965ba940>\n",
       "\t.signbit -> <syft.ast.callable.Callable object at 0x7fb2965ba9a0>\n",
       "\t.subtract -> <syft.ast.callable.Callable object at 0x7fb2965baa00>\n",
       "\t.unsafe_split -> <syft.ast.callable.Callable object at 0x7fb2965baa60>\n",
       "\t.vdot -> <syft.ast.callable.Callable object at 0x7fb2965baac0>\n",
       "\t.movedim -> <syft.ast.callable.Callable object at 0x7fb2965bab20>\n",
       "\t.unsafe_split_with_sizes -> <syft.ast.callable.Callable object at 0x7fb2965bab80>\n",
       "\t.cuda -> Module:\n",
       "\t\t.is_available -> <syft.ast.callable.Callable object at 0x7fb2965bac40>\n",
       "\n",
       "\t.device -> <syft.ast.klass.Class object at 0x7fb2965baca0>\n",
       "\t.random -> Module:\n",
       "\t\t.initial_seed -> <syft.ast.callable.Callable object at 0x7fb2965bae20>\n",
       "\n",
       "\t.zeros_like -> <syft.ast.callable.Callable object at 0x7fb2965bae80>\n",
       "\t.manual_seed -> <syft.ast.callable.Callable object at 0x7fb2965baee0>\n",
       "\t.Generator -> <syft.ast.klass.Class object at 0x7fb2965baf40>\n",
       "\t.utils -> Module:\n",
       "\t\t.data -> Module:\n",
       "\t\t\t.DataLoader -> <syft.ast.klass.Class object at 0x7fb2965c5280>\n",
       "\t\t\t.dataloader -> Module:\n",
       "\t\t\t\t._SingleProcessDataLoaderIter -> <syft.ast.klass.Class object at 0x7fb2965c54c0>\n",
       "\n",
       "\n",
       "\n",
       "\t.optim -> Module:\n",
       "\t\t.ASGD -> <syft.ast.klass.Class object at 0x7fb2965c5880>\n",
       "\t\t.Adadelta -> <syft.ast.klass.Class object at 0x7fb2965c5a00>\n",
       "\t\t.Adagrad -> <syft.ast.klass.Class object at 0x7fb2965c5b80>\n",
       "\t\t.Adam -> <syft.ast.klass.Class object at 0x7fb2965c5d00>\n",
       "\t\t.AdamW -> <syft.ast.klass.Class object at 0x7fb2965c5e80>\n",
       "\t\t.Adamax -> <syft.ast.klass.Class object at 0x7fb2965cb040>\n",
       "\t\t.LBFGS -> <syft.ast.klass.Class object at 0x7fb2965cb1c0>\n",
       "\t\t.Optimizer -> <syft.ast.klass.Class object at 0x7fb2965cb340>\n",
       "\t\t.RMSprop -> <syft.ast.klass.Class object at 0x7fb2965cb520>\n",
       "\t\t.Rprop -> <syft.ast.klass.Class object at 0x7fb2965cb6a0>\n",
       "\t\t.SGD -> <syft.ast.klass.Class object at 0x7fb2965cb820>\n",
       "\t\t.SparseAdam -> <syft.ast.klass.Class object at 0x7fb2965cb9a0>\n",
       "\t\t.lr_scheduler -> Module:\n",
       "\t\t\t.StepLR -> <syft.ast.klass.Class object at 0x7fb2965cbc40>\n",
       "\n",
       "\n",
       "\t.no_grad -> <syft.ast.klass.Class object at 0x7fb2965cbe20>\n",
       "\t.autograd -> Module:\n",
       "\t\t.grad_mode -> Module:\n",
       "\t\t\t.no_grad -> <syft.ast.klass.Class object at 0x7fb2965cbfa0>\n",
       "\n",
       "\n",
       "\t.distributions -> Module:\n",
       "\t\t.Categorical -> <syft.ast.klass.Class object at 0x7fb296556220>\n",
       "\n",
       "\t.kron -> <syft.ast.callable.Callable object at 0x7fb2965567c0>\n",
       "\t.msort -> <syft.ast.callable.Callable object at 0x7fb2965568e0>\n",
       "\t.row_stack -> <syft.ast.callable.Callable object at 0x7fb296556940>\n",
       "\t.moveaxis -> <syft.ast.callable.Callable object at 0x7fb296556c40>\n",
       "\t.tensor_split -> <syft.ast.callable.Callable object at 0x7fb296556d60>\n",
       "\t.tile -> <syft.ast.callable.Callable object at 0x7fb296556e80>\n",
       "\t.fmin -> <syft.ast.callable.Callable object at 0x7fb29655a0a0>\n",
       "\t.ldexp -> <syft.ast.callable.Callable object at 0x7fb29655a100>\n",
       "\t.igamma -> <syft.ast.callable.Callable object at 0x7fb29655a220>\n",
       "\t.float_power -> <syft.ast.callable.Callable object at 0x7fb29655a700>\n",
       "\t.xlogy -> <syft.ast.callable.Callable object at 0x7fb29655a820>\n",
       "\t.copysign -> <syft.ast.callable.Callable object at 0x7fb29655a880>\n",
       "\t.nanmedian -> <syft.ast.callable.Callable object at 0x7fb29655a8e0>\n",
       "\t.igammac -> <syft.ast.callable.Callable object at 0x7fb29655a940>\n",
       "\t.diff -> <syft.ast.callable.Callable object at 0x7fb29655aa60>\n",
       "\t.sinc -> <syft.ast.callable.Callable object at 0x7fb29655ab80>\n",
       "\t.column_stack -> <syft.ast.callable.Callable object at 0x7fb29655ad60>\n",
       "\t.pixel_unshuffle -> <syft.ast.callable.Callable object at 0x7fb29655ae80>\n",
       "\t.swapaxes -> <syft.ast.callable.Callable object at 0x7fb29655f160>\n",
       "\t.nan_to_num -> <syft.ast.callable.Callable object at 0x7fb29655f1c0>\n",
       "\t.inner -> <syft.ast.callable.Callable object at 0x7fb29655f220>\n",
       "\t.fmax -> <syft.ast.callable.Callable object at 0x7fb29655f280>\n",
       "\t.ravel -> <syft.ast.callable.Callable object at 0x7fb29655f5e0>\n",
       "\t.broadcast_to -> <syft.ast.callable.Callable object at 0x7fb29655f640>\n",
       "\t.swapdims -> <syft.ast.callable.Callable object at 0x7fb29655f820>"
      ]
     },
     "execution_count": 40,
     "metadata": {},
     "output_type": "execute_result"
    }
   ],
   "source": [
    "duet_1.torch"
   ]
  },
  {
   "cell_type": "markdown",
   "id": "09005cf6",
   "metadata": {},
   "source": [
    "## Conclusions"
   ]
  },
  {
   "cell_type": "markdown",
   "id": "b28bbba9",
   "metadata": {},
   "source": [
    "*Advantages*\n",
    "\n",
    " - Easy to use\n",
    " - Federated Analytics\n",
    " - FL Machine Learning\n",
    " - Privacy pre-serving mechanisms\n",
    " - Programmatic access control in a operational level (API).\n",
    " "
   ]
  },
  {
   "cell_type": "markdown",
   "id": "ffaa6d35",
   "metadata": {},
   "source": [
    "*Disadvantages*"
   ]
  },
  {
   "cell_type": "markdown",
   "id": "1b71c97f",
   "metadata": {},
   "source": [
    "* NO Data discovery: \n",
    "    * We need to know that the data owner before hand.\n",
    "    * We don't have a global data catalog.\n",
    "    * We can not persist data in disk.\n",
    "* Communication:\n",
    "    * Peer-to-peer sessions: We need to open a new session with each Data Owner.\n",
    "    * We need the simultaneaous connection of both: data scientist and data owner.\n",
    "* NO (secure) logging and monitoring\n",
    "* NO support for Tensorflow"
   ]
  },
  {
   "cell_type": "markdown",
   "id": "6eb45ef3",
   "metadata": {},
   "source": [
    "## Future steps"
   ]
  },
  {
   "cell_type": "markdown",
   "id": "7bc85afb",
   "metadata": {},
   "source": [
    "Pysyft features to be tested:\n",
    "\n",
    "* Federated Algorithms: aggregation and coordination schemas.\n",
    "* Test with more complex ML models: CNN, LSMT....\n",
    "* NLP\n",
    "    * [Privacy preserving NLP](https://github.com/OpenMined/SyferText)\n",
    "    * [Private information retrieval](https://github.com/OpenMined/PIR)\n",
    "* SplitNN\n",
    "* [Vertical federated learning](https://github.com/OpenMined/PyVertical)\n",
    "* [Private set intersection](https://github.com/OpenMined/PSI)\n",
    "* Try support with scikit-learn\n",
    "* Differential privacy:\n",
    "    - https://github.com/OpenMined/PipelineDP\n",
    "    - https://github.com/OpenMined/PyDP\n",
    "* [Homomorphic encryption](https://github.com/OpenMined/TenSEAL)\n",
    "* [SMPC](https://github.com/OpenMined/SyMPC)\n",
    "* Blockchain\n",
    "    * Monitoring and logging\n",
    "    * [Data poisoning](https://github.com/OpenMined/PyAriesFL)\n"
   ]
  },
  {
   "cell_type": "code",
   "execution_count": null,
   "id": "459de17f",
   "metadata": {},
   "outputs": [],
   "source": []
  },
  {
   "cell_type": "code",
   "execution_count": null,
   "id": "9346eb67",
   "metadata": {},
   "outputs": [],
   "source": []
  },
  {
   "cell_type": "code",
   "execution_count": null,
   "id": "30f338ac",
   "metadata": {},
   "outputs": [],
   "source": []
  },
  {
   "cell_type": "code",
   "execution_count": null,
   "id": "33719811",
   "metadata": {},
   "outputs": [],
   "source": []
  },
  {
   "cell_type": "code",
   "execution_count": null,
   "id": "338c51ff",
   "metadata": {},
   "outputs": [],
   "source": []
  },
  {
   "cell_type": "code",
   "execution_count": null,
   "id": "9d37e375",
   "metadata": {},
   "outputs": [],
   "source": []
  }
 ],
 "metadata": {
  "kernelspec": {
   "display_name": "Python 3 (ipykernel)",
   "language": "python",
   "name": "python3"
  },
  "language_info": {
   "codemirror_mode": {
    "name": "ipython",
    "version": 3
   },
   "file_extension": ".py",
   "mimetype": "text/x-python",
   "name": "python",
   "nbconvert_exporter": "python",
   "pygments_lexer": "ipython3",
   "version": "3.9.7"
  }
 },
 "nbformat": 4,
 "nbformat_minor": 5
}
